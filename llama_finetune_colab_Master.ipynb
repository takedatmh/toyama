{
  "cells": [
    {
      "cell_type": "markdown",
      "metadata": {
        "id": "_cQ9czXyBcdE"
      },
      "source": [
        "# Llama 3.2 1B Fine-Tuning on Google Colab with QLoRA\n",
        "This notebook is optimized to run within 15 minutes on T4 GPU with training visualization"
      ]
    },
    {
      "cell_type": "markdown",
      "metadata": {
        "id": "dU-tl64vBcdG"
      },
      "source": [
        "## Step 1: Check GPU and Install Dependencies"
      ]
    },
    {
      "cell_type": "code",
      "execution_count": null,
      "metadata": {
        "colab": {
          "base_uri": "https://localhost:8080/"
        },
        "id": "xabDvW7TBcdG",
        "outputId": "5ebe1a5f-e165-4ab4-9023-6fa288011b41"
      },
      "outputs": [
        {
          "name": "stdout",
          "output_type": "stream",
          "text": [
            "Wed Jul  2 21:33:12 2025       \n",
            "+-----------------------------------------------------------------------------------------+\n",
            "| NVIDIA-SMI 550.54.15              Driver Version: 550.54.15      CUDA Version: 12.4     |\n",
            "|-----------------------------------------+------------------------+----------------------+\n",
            "| GPU  Name                 Persistence-M | Bus-Id          Disp.A | Volatile Uncorr. ECC |\n",
            "| Fan  Temp   Perf          Pwr:Usage/Cap |           Memory-Usage | GPU-Util  Compute M. |\n",
            "|                                         |                        |               MIG M. |\n",
            "|=========================================+========================+======================|\n",
            "|   0  Tesla T4                       Off |   00000000:00:04.0 Off |                    0 |\n",
            "| N/A   42C    P8             10W /   70W |       0MiB /  15360MiB |      0%      Default |\n",
            "|                                         |                        |                  N/A |\n",
            "+-----------------------------------------+------------------------+----------------------+\n",
            "                                                                                         \n",
            "+-----------------------------------------------------------------------------------------+\n",
            "| Processes:                                                                              |\n",
            "|  GPU   GI   CI        PID   Type   Process name                              GPU Memory |\n",
            "|        ID   ID                                                               Usage      |\n",
            "|=========================================================================================|\n",
            "|  No running processes found                                                             |\n",
            "+-----------------------------------------------------------------------------------------+\n",
            "GPU Available: True\n",
            "GPU Name: Tesla T4\n"
          ]
        }
      ],
      "source": [
        "# Check GPU availability\n",
        "!nvidia-smi\n",
        "import torch\n",
        "print(f\"GPU Available: {torch.cuda.is_available()}\")\n",
        "print(f\"GPU Name: {torch.cuda.get_device_name(0) if torch.cuda.is_available() else 'No GPU'}\")"
      ]
    },
    {
      "cell_type": "code",
      "execution_count": null,
      "metadata": {
        "colab": {
          "base_uri": "https://localhost:8080/"
        },
        "id": "E1qxi7CxBcdH",
        "outputId": "c6a20e6b-e6a3-4632-bbfe-35e915d86cfe"
      },
      "outputs": [
        {
          "name": "stdout",
          "output_type": "stream",
          "text": [
            "\u001b[2K   \u001b[90m━━━━━━━━━━━━━━━━━━━━━━━━━━━━━━━━━━━━━━━━\u001b[0m \u001b[32m491.5/491.5 kB\u001b[0m \u001b[31m14.3 MB/s\u001b[0m eta \u001b[36m0:00:00\u001b[0m\n",
            "\u001b[2K   \u001b[90m━━━━━━━━━━━━━━━━━━━━━━━━━━━━━━━━━━━━━━━━\u001b[0m \u001b[32m72.9/72.9 MB\u001b[0m \u001b[31m32.0 MB/s\u001b[0m eta \u001b[36m0:00:00\u001b[0m\n",
            "\u001b[2K   \u001b[90m━━━━━━━━━━━━━━━━━━━━━━━━━━━━━━━━━━━━━━━━\u001b[0m \u001b[32m375.8/375.8 kB\u001b[0m \u001b[31m31.3 MB/s\u001b[0m eta \u001b[36m0:00:00\u001b[0m\n",
            "\u001b[2K   \u001b[90m━━━━━━━━━━━━━━━━━━━━━━━━━━━━━━━━━━━━━━━━\u001b[0m \u001b[32m8.6/8.6 MB\u001b[0m \u001b[31m95.0 MB/s\u001b[0m eta \u001b[36m0:00:00\u001b[0m\n",
            "\u001b[2K   \u001b[90m━━━━━━━━━━━━━━━━━━━━━━━━━━━━━━━━━━━━━━━━\u001b[0m \u001b[32m193.6/193.6 kB\u001b[0m \u001b[31m17.1 MB/s\u001b[0m eta \u001b[36m0:00:00\u001b[0m\n",
            "\u001b[2K   \u001b[90m━━━━━━━━━━━━━━━━━━━━━━━━━━━━━━━━━━━━━━━━\u001b[0m \u001b[32m363.4/363.4 MB\u001b[0m \u001b[31m3.7 MB/s\u001b[0m eta \u001b[36m0:00:00\u001b[0m\n",
            "\u001b[2K   \u001b[90m━━━━━━━━━━━━━━━━━━━━━━━━━━━━━━━━━━━━━━━━\u001b[0m \u001b[32m13.8/13.8 MB\u001b[0m \u001b[31m31.6 MB/s\u001b[0m eta \u001b[36m0:00:00\u001b[0m\n",
            "\u001b[2K   \u001b[90m━━━━━━━━━━━━━━━━━━━━━━━━━━━━━━━━━━━━━━━━\u001b[0m \u001b[32m24.6/24.6 MB\u001b[0m \u001b[31m27.5 MB/s\u001b[0m eta \u001b[36m0:00:00\u001b[0m\n",
            "\u001b[2K   \u001b[90m━━━━━━━━━━━━━━━━━━━━━━━━━━━━━━━━━━━━━━━━\u001b[0m \u001b[32m883.7/883.7 kB\u001b[0m \u001b[31m23.3 MB/s\u001b[0m eta \u001b[36m0:00:00\u001b[0m\n",
            "\u001b[2K   \u001b[90m━━━━━━━━━━━━━━━━━━━━━━━━━━━━━━━━━━━━━━━━\u001b[0m \u001b[32m664.8/664.8 MB\u001b[0m \u001b[31m3.0 MB/s\u001b[0m eta \u001b[36m0:00:00\u001b[0m\n",
            "\u001b[2K   \u001b[90m━━━━━━━━━━━━━━━━━━━━━━━━━━━━━━━━━━━━━━━━\u001b[0m \u001b[32m211.5/211.5 MB\u001b[0m \u001b[31m6.5 MB/s\u001b[0m eta \u001b[36m0:00:00\u001b[0m\n",
            "\u001b[2K   \u001b[90m━━━━━━━━━━━━━━━━━━━━━━━━━━━━━━━━━━━━━━━━\u001b[0m \u001b[32m56.3/56.3 MB\u001b[0m \u001b[31m31.7 MB/s\u001b[0m eta \u001b[36m0:00:00\u001b[0m\n",
            "\u001b[2K   \u001b[90m━━━━━━━━━━━━━━━━━━━━━━━━━━━━━━━━━━━━━━━━\u001b[0m \u001b[32m127.9/127.9 MB\u001b[0m \u001b[31m6.1 MB/s\u001b[0m eta \u001b[36m0:00:00\u001b[0m\n",
            "\u001b[2K   \u001b[90m━━━━━━━━━━━━━━━━━━━━━━━━━━━━━━━━━━━━━━━━\u001b[0m \u001b[32m207.5/207.5 MB\u001b[0m \u001b[31m4.8 MB/s\u001b[0m eta \u001b[36m0:00:00\u001b[0m\n",
            "\u001b[2K   \u001b[90m━━━━━━━━━━━━━━━━━━━━━━━━━━━━━━━━━━━━━━━━\u001b[0m \u001b[32m21.1/21.1 MB\u001b[0m \u001b[31m54.8 MB/s\u001b[0m eta \u001b[36m0:00:00\u001b[0m\n",
            "\u001b[?25h\u001b[31mERROR: pip's dependency resolver does not currently take into account all the packages that are installed. This behaviour is the source of the following dependency conflicts.\n",
            "gcsfs 2025.3.2 requires fsspec==2025.3.2, but you have fsspec 2025.3.0 which is incompatible.\u001b[0m\u001b[31m\n",
            "\u001b[0m"
          ]
        }
      ],
      "source": [
        "# Install required packages\n",
        "!pip install -q -U transformers datasets accelerate peft bitsandbytes trl matplotlib"
      ]
    },
    {
      "cell_type": "markdown",
      "metadata": {
        "id": "EY2aDuc8BcdI"
      },
      "source": [
        "## Step 2: Login to Hugging Face (Required for Llama models)"
      ]
    },
    {
      "cell_type": "code",
      "execution_count": null,
      "metadata": {
        "id": "LwoX629eBcdI"
      },
      "outputs": [],
      "source": [
        "# Login to Hugging Face\n",
        "!pip install -q huggingface_hub\n",
        "from huggingface_hub import login\n",
        "\n",
        "# Replace with your Hugging Face token\n",
        "# Get it from: https://huggingface.co/settings/tokens\n",
        "login(token=\"??_QITDVRlIekssKUEvPdlgHMhiJXXhdrnvi?\")  # You need to replace this!"
      ]
    },
    {
      "cell_type": "markdown",
      "metadata": {
        "id": "Fu3FRYBRBcdJ"
      },
      "source": [
        "## Step 3: Import Libraries and Set Up Training Monitoring"
      ]
    },
    {
      "cell_type": "code",
      "execution_count": null,
      "metadata": {
        "id": "AqzR8s1RBcdJ"
      },
      "outputs": [],
      "source": [
        "import torch\n",
        "from transformers import (\n",
        "    AutoModelForCausalLM,\n",
        "    AutoTokenizer,\n",
        "    BitsAndBytesConfig,\n",
        "    TrainingArguments,\n",
        "    pipeline,\n",
        ")\n",
        "from peft import LoraConfig, PeftModel, prepare_model_for_kbit_training, get_peft_model\n",
        "from datasets import load_dataset\n",
        "from trl import SFTTrainer\n",
        "import gc\n",
        "import matplotlib.pyplot as plt\n",
        "from IPython.display import clear_output\n",
        "import time\n",
        "from datetime import datetime\n",
        "\n",
        "# For tracking training progress\n",
        "training_losses = []\n",
        "training_steps = []"
      ]
    },
    {
      "cell_type": "markdown",
      "metadata": {
        "id": "5d5h6wZABcdK"
      },
      "source": [
        "## Step 4: Configure Model and Quantization"
      ]
    },
    {
      "cell_type": "code",
      "execution_count": null,
      "metadata": {
        "colab": {
          "base_uri": "https://localhost:8080/"
        },
        "id": "ZfiLDnqiBcdK",
        "outputId": "a8a71b79-11b6-428c-893c-58fadcd4779e"
      },
      "outputs": [
        {
          "name": "stdout",
          "output_type": "stream",
          "text": [
            "Model: meta-llama/Llama-3.2-1B\n",
            "Dataset: yahma/alpaca-cleaned\n",
            "Quantization: 4-bit (QLoRA)\n"
          ]
        }
      ],
      "source": [
        "# Model configuration\n",
        "model_name = \"meta-llama/Llama-3.2-1B\"  # Smallest Llama 3 model\n",
        "dataset_name = \"yahma/alpaca-cleaned\"  # Clean instruction dataset\n",
        "\n",
        "# Configure 4-bit quantization for memory efficiency\n",
        "bnb_config = BitsAndBytesConfig(\n",
        "    load_in_4bit=True,\n",
        "    bnb_4bit_quant_type=\"nf4\",\n",
        "    bnb_4bit_compute_dtype=torch.float16,\n",
        "    bnb_4bit_use_double_quant=True,\n",
        ")\n",
        "\n",
        "print(f\"Model: {model_name}\")\n",
        "print(f\"Dataset: {dataset_name}\")\n",
        "print(\"Quantization: 4-bit (QLoRA)\")"
      ]
    },
    {
      "cell_type": "markdown",
      "metadata": {
        "id": "gQJ8IEPABcdL"
      },
      "source": [
        "## Step 5: Load Model and Tokenizer"
      ]
    },
    {
      "cell_type": "code",
      "execution_count": null,
      "metadata": {
        "colab": {
          "base_uri": "https://localhost:8080/",
          "height": 276,
          "referenced_widgets": [
            "2ab686fc46a94d21b4e115e593cd3712",
            "780ed051f1974d4d9afd18e20f0e0236",
            "829c568de79a4a34b49efbca868a4b45",
            "f612dc2ec1444594a8748ab096fe0fe8",
            "5c84ade09db34bcd9031542f79eb0f90",
            "d200f30ac546494fa41df4f24e9d74e1",
            "19bdf7ab57a247559214a08597359918",
            "b213e54c00d94acdab5390501b0678a7",
            "3735b27b44a341548cead10319558d47",
            "c8c393913a45404aacd6914b4750b61a",
            "47bb880fad0a499eb5dfaca5633d69d2",
            "f7b4e6d88c5140f5888dea7a9f1f45fe",
            "4828916cbe584d9583f7c8f197abdeab",
            "6d9db0a546734c23b1756e5a15a4cfff",
            "e6141adf761640589032c223003b458d",
            "f9340769282a4245aeb2267ba8c1b1fc",
            "b3185bcc33e84489bfa4100d0b194c14",
            "bb8792d85df04e6781d2aae3c04f53bf",
            "12c2f8df5abc40caa0e713f23caee586",
            "c4f4aebf3dc5441cbecb8707e759f968",
            "6ef4351cb1af483780bd90c45cd7ca61",
            "4cfb6277d0e9417699fa3747dfbbdf2d",
            "0de5947bc05f4e79aad33d1e43c467aa",
            "26b23224881243f2b8c1513624569149",
            "0696160d0aa5445f92fc79372e78c3b2",
            "4c54561cbd844a1f91af297b471422d7",
            "ca109d83796245c3a1fae4680c5f88ea",
            "578e1c6659ae419a8dd4b3549622592a",
            "a009abd7a23f4d85ad8e195e7ca3ec22",
            "fed15a0f5cfa493a86cfcde8734af37e",
            "b0a993d6e50045d0abc08324b55fdd94",
            "716b7a6e01d043dfa51dfc183a6faa8d",
            "cc2de5081740442e95a6c27c936dd22f",
            "d3ec002eaebe43709fcf779267883869",
            "9fa4264cfe4746d3aa66a46ec2761dc8",
            "7a914bf67a5c4bf39105ba77b9e5263d",
            "a2cd1c9121774dd6b3e3f7f12e9bdada",
            "d9c44d642026499ba7f7b5c403b3e1e3",
            "dd68bd7b5fef436fb76c680fee577935",
            "ff534bef436c46f9bb04bd605c610033",
            "b7904a5da81a461ab134f9c57f25a674",
            "7b92288b2fe24e8a8b8d94bdeaac2be1",
            "ab4dd7f87050429eac93f3e32a1c013d",
            "4217c8a60b234ebfb36b3a9224a689ac",
            "862b90c464034653aac9a2337e45bf3f",
            "99e7fcd7b151429f938dfc3a10c76f79",
            "a68c9086533d4a0bb5e7452d7c44611e",
            "b5b6ffc32e3a4f208d320189067fe125",
            "007bbb3f9d394b00abf3093d72aa2592",
            "bd8a73b1e7c3422e919977d083c11f2b",
            "e0c255ed65d0481e9fd6426ce8e00e9e",
            "b918655db7264aba8c7e8b84abd02d62",
            "9924d0fc9cc74a03b2b12a8f77a614b0",
            "be9e4e6014984f2cace4a3fc51f59195",
            "76a5d8a0afde4b7dae82ad77c42f1ae8",
            "bcf04b9736b94fe486ee1087e4594a19",
            "6b209296617546a892cdd63926bc88a8",
            "d09d6a6acf9642da9115e6d20c19ca47",
            "dfaebe289b9546b8b8c75615bc98d767",
            "51b187f7dc794a1ca3407960f2bae194",
            "470f2c97fedd4fc6a446a54f65fa024d",
            "23cb0943b6044dcc9d67e255b9303ac7",
            "82d11c00fa704b06880fca3a58676d24",
            "51ba4156e10f4f2f83b98c13465e0f59",
            "c1b16bed519f4301bc44288c0d3da14c",
            "244a11827537490e81f529ee4c087b53",
            "41257a99201b413993cc9dc0de8451d1",
            "cc6317386b8f46648cdc2f3b3d1f1f76",
            "1a410b9e597c4fadbe9aa24d7f067ed1",
            "5c7f919d092846b7986006d322f13639",
            "f3b65fbcff87470ea75bdfd61844d837",
            "6ca1a25f250a477689221619d33d9f0e",
            "f70fd7fff6e04db5a17126d809518933",
            "9812b4edc93e4843bf97c8feb6560f8f",
            "c3a8ff7f50ab4c1fb14d0acde1074b2f",
            "3d6948bbc7a340d69bee9bb655c5d38c",
            "10f855dae4fc4ace8debe15e866ba599"
          ]
        },
        "id": "ON2qmIUNBcdL",
        "outputId": "be34c06b-fb50-4876-f1a5-dee31caec597"
      },
      "outputs": [
        {
          "name": "stdout",
          "output_type": "stream",
          "text": [
            "Loading model and tokenizer...\n"
          ]
        },
        {
          "data": {
            "application/vnd.jupyter.widget-view+json": {
              "model_id": "2ab686fc46a94d21b4e115e593cd3712",
              "version_major": 2,
              "version_minor": 0
            },
            "text/plain": [
              "config.json:   0%|          | 0.00/608 [00:00<?, ?B/s]"
            ]
          },
          "metadata": {},
          "output_type": "display_data"
        },
        {
          "data": {
            "application/vnd.jupyter.widget-view+json": {
              "model_id": "f7b4e6d88c5140f5888dea7a9f1f45fe",
              "version_major": 2,
              "version_minor": 0
            },
            "text/plain": [
              "model.safetensors:   0%|          | 0.00/2.20G [00:00<?, ?B/s]"
            ]
          },
          "metadata": {},
          "output_type": "display_data"
        },
        {
          "data": {
            "application/vnd.jupyter.widget-view+json": {
              "model_id": "0de5947bc05f4e79aad33d1e43c467aa",
              "version_major": 2,
              "version_minor": 0
            },
            "text/plain": [
              "generation_config.json:   0%|          | 0.00/124 [00:00<?, ?B/s]"
            ]
          },
          "metadata": {},
          "output_type": "display_data"
        },
        {
          "data": {
            "application/vnd.jupyter.widget-view+json": {
              "model_id": "d3ec002eaebe43709fcf779267883869",
              "version_major": 2,
              "version_minor": 0
            },
            "text/plain": [
              "tokenizer_config.json: 0.00B [00:00, ?B/s]"
            ]
          },
          "metadata": {},
          "output_type": "display_data"
        },
        {
          "data": {
            "application/vnd.jupyter.widget-view+json": {
              "model_id": "862b90c464034653aac9a2337e45bf3f",
              "version_major": 2,
              "version_minor": 0
            },
            "text/plain": [
              "tokenizer.model:   0%|          | 0.00/500k [00:00<?, ?B/s]"
            ]
          },
          "metadata": {},
          "output_type": "display_data"
        },
        {
          "data": {
            "application/vnd.jupyter.widget-view+json": {
              "model_id": "bcf04b9736b94fe486ee1087e4594a19",
              "version_major": 2,
              "version_minor": 0
            },
            "text/plain": [
              "tokenizer.json: 0.00B [00:00, ?B/s]"
            ]
          },
          "metadata": {},
          "output_type": "display_data"
        },
        {
          "data": {
            "application/vnd.jupyter.widget-view+json": {
              "model_id": "41257a99201b413993cc9dc0de8451d1",
              "version_major": 2,
              "version_minor": 0
            },
            "text/plain": [
              "special_tokens_map.json:   0%|          | 0.00/551 [00:00<?, ?B/s]"
            ]
          },
          "metadata": {},
          "output_type": "display_data"
        },
        {
          "name": "stdout",
          "output_type": "stream",
          "text": [
            "Model loaded in 15.19 seconds\n"
          ]
        }
      ],
      "source": [
        "print(\"Loading model and tokenizer...\")\n",
        "start_time = time.time()\n",
        "\n",
        "# Use a publicly available model as meta-llama/Llama-3.2-1B is gated\n",
        "model_name = \"TinyLlama/TinyLlama-1.1B-Chat-v1.0\" # Replace with a publicly available model\n",
        "dataset_name = \"yahma/alpaca-cleaned\"  # Clean instruction dataset\n",
        "\n",
        "\n",
        "bnb_config = BitsAndBytesConfig(\n",
        "    load_in_4bit=True,\n",
        "    bnb_4bit_quant_type=\"nf4\",\n",
        "    bnb_4bit_compute_dtype=torch.float16,\n",
        "    bnb_4bit_use_double_quant=True,\n",
        ")\n",
        "\n",
        "model = AutoModelForCausalLM.from_pretrained(\n",
        "    model_name,\n",
        "    quantization_config=bnb_config,\n",
        "    device_map=\"auto\",\n",
        "    trust_remote_code=True,\n",
        ")\n",
        "\n",
        "tokenizer = AutoTokenizer.from_pretrained(\n",
        "    model_name,\n",
        "    trust_remote_code=True\n",
        ")\n",
        "tokenizer.pad_token = tokenizer.eos_token\n",
        "tokenizer.padding_side = \"right\"\n",
        "\n",
        "print(f\"Model loaded in {time.time() - start_time:.2f} seconds\")"
      ]
    },
    {
      "cell_type": "markdown",
      "metadata": {
        "id": "deVJAceDBcdL"
      },
      "source": [
        "## Step 6: Configure LoRA and Prepare Model"
      ]
    },
    {
      "cell_type": "code",
      "execution_count": null,
      "metadata": {
        "colab": {
          "base_uri": "https://localhost:8080/"
        },
        "id": "rQHdUSulBcdL",
        "outputId": "14f24de9-3cf8-4938-bd4a-68348b650f6b"
      },
      "outputs": [
        {
          "name": "stdout",
          "output_type": "stream",
          "text": [
            "LoRA Configuration:\n",
            "  - Rank (r): 8\n",
            "  - Alpha: 16\n",
            "  - Target modules: {'q_proj', 'v_proj', 'k_proj', 'o_proj'}\n"
          ]
        }
      ],
      "source": [
        "# Prepare model for training\n",
        "model = prepare_model_for_kbit_training(model)\n",
        "\n",
        "# Configure LoRA\n",
        "peft_config = LoraConfig(\n",
        "    r=8,  # Low rank\n",
        "    lora_alpha=16,\n",
        "    target_modules=[\"q_proj\", \"v_proj\", \"k_proj\", \"o_proj\"],\n",
        "    lora_dropout=0.1,\n",
        "    bias=\"none\",\n",
        "    task_type=\"CAUSAL_LM\",\n",
        ")\n",
        "\n",
        "print(\"LoRA Configuration:\")\n",
        "print(f\"  - Rank (r): {peft_config.r}\")\n",
        "print(f\"  - Alpha: {peft_config.lora_alpha}\")\n",
        "print(f\"  - Target modules: {peft_config.target_modules}\")"
      ]
    },
    {
      "cell_type": "markdown",
      "metadata": {
        "id": "YZ04BzSlBcdL"
      },
      "source": [
        "## Step 7: Load and Prepare Dataset"
      ]
    },
    {
      "cell_type": "code",
      "execution_count": null,
      "metadata": {
        "colab": {
          "base_uri": "https://localhost:8080/",
          "height": 136,
          "referenced_widgets": [
            "27663b88a31f427c9edb6fd52a6ad39a",
            "0f54225cbf794ace876163b25448b9a2",
            "e2dbabfda45c43edbe53707f28deee7c",
            "b0511aee92fb42e28f3898b0e6ad03e7",
            "21737673bc0640e4ac327b8af9879482",
            "ebd276fd7a5743e697d69bcddb7d685b",
            "739498daa01b4eaab046e42f65e95a35",
            "58ac83d491414e5b97a239c3dd246174",
            "a9f0877fd5b8416f85d71f7c54fe4ada",
            "000aea66cbf045caa0cbbb86381305e0",
            "f2965e9199f94499b8644ed795e142b9"
          ]
        },
        "id": "tBaKWYUnBcdM",
        "outputId": "bda08946-bf54-4eab-f690-2e6e41bcf636"
      },
      "outputs": [
        {
          "name": "stdout",
          "output_type": "stream",
          "text": [
            "Loading dataset...\n"
          ]
        },
        {
          "data": {
            "application/vnd.jupyter.widget-view+json": {
              "model_id": "27663b88a31f427c9edb6fd52a6ad39a",
              "version_major": 2,
              "version_minor": 0
            },
            "text/plain": [
              "Map:   0%|          | 0/500 [00:00<?, ? examples/s]"
            ]
          },
          "metadata": {},
          "output_type": "display_data"
        },
        {
          "name": "stdout",
          "output_type": "stream",
          "text": [
            "Dataset loaded: 500 samples\n",
            "\n",
            "Sample data point (tokenized input_ids):\n",
            "[1, 835, 2799, 4080, 29901, 13, 29954, 573, 2211, 25562, 363, 7952, 292, 9045, 29891, 29889, 13, 13, 2277, 29937] ...\n"
          ]
        }
      ],
      "source": [
        "print(\"Loading dataset...\")\n",
        "dataset = load_dataset(dataset_name, split=\"train\")\n",
        "\n",
        "# Take only 500 samples for quick training\n",
        "dataset = dataset.select(range(500))\n",
        "\n",
        "# Format dataset for instruction tuning and tokenize\n",
        "def format_instruction_and_tokenize(sample):\n",
        "    instruction = f\"\"\"### Instruction:\n",
        "{sample['instruction']}\n",
        "\n",
        "### Input:\n",
        "{sample['input']}\n",
        "\n",
        "### Response:\n",
        "{sample['output']}\"\"\"\n",
        "\n",
        "    # Tokenize the instruction\n",
        "    tokenized_input = tokenizer(instruction, truncation=True, padding=\"max_length\", max_length=256, return_tensors=\"pt\")\n",
        "\n",
        "    return {\"text\": instruction, # Add the original text as 'text' column\n",
        "            \"input_ids\": tokenized_input[\"input_ids\"].squeeze(),\n",
        "            \"attention_mask\": tokenized_input[\"attention_mask\"].squeeze()}\n",
        "\n",
        "\n",
        "dataset = dataset.map(format_instruction_and_tokenize, remove_columns=['instruction', 'input', 'output'])\n",
        "\n",
        "\n",
        "print(f\"Dataset loaded: {len(dataset)} samples\")\n",
        "print(\"\\nSample data point (tokenized input_ids):\")\n",
        "print(dataset[0]['input_ids'][:20], \"...\")"
      ]
    },
    {
      "cell_type": "markdown",
      "metadata": {
        "id": "Mc4IzDTPBcdM"
      },
      "source": [
        "## Step 8: Set Training Parameters"
      ]
    },
    {
      "cell_type": "code",
      "execution_count": null,
      "metadata": {
        "colab": {
          "base_uri": "https://localhost:8080/"
        },
        "id": "rsrGULNgBcdM",
        "outputId": "47225ce3-a485-48ad-d34b-559b472135e0"
      },
      "outputs": [
        {
          "name": "stdout",
          "output_type": "stream",
          "text": [
            "Training Configuration:\n",
            "  - Max steps: 50\n",
            "  - Batch size: 4\n",
            "  - Learning rate: 0.0002\n",
            "  - Effective batch size: 8\n"
          ]
        }
      ],
      "source": [
        "# Training parameters optimized for speed\n",
        "training_args = TrainingArguments(\n",
        "    output_dir=\"./llama-3-1b-finetuned\",\n",
        "    num_train_epochs=1,  # Just 1 epoch for speed\n",
        "    per_device_train_batch_size=4,\n",
        "    gradient_accumulation_steps=2,\n",
        "    gradient_checkpointing=True,\n",
        "    optim=\"paged_adamw_32bit\",\n",
        "    logging_steps=5,  # Log more frequently for visualization\n",
        "    save_strategy=\"epoch\",\n",
        "    learning_rate=2e-4,\n",
        "    fp16=True,\n",
        "    max_grad_norm=0.3,\n",
        "    warmup_ratio=0.03,\n",
        "    group_by_length=True,\n",
        "    lr_scheduler_type=\"constant\",\n",
        "    report_to=\"none\",  # Disable wandb/tensorboard for speed\n",
        "    max_steps=50,  # Limit steps for 15-minute training\n",
        ")\n",
        "\n",
        "print(\"Training Configuration:\")\n",
        "print(f\"  - Max steps: {training_args.max_steps}\")\n",
        "print(f\"  - Batch size: {training_args.per_device_train_batch_size}\")\n",
        "print(f\"  - Learning rate: {training_args.learning_rate}\")\n",
        "print(f\"  - Effective batch size: {training_args.per_device_train_batch_size * training_args.gradient_accumulation_steps}\")"
      ]
    },
    {
      "cell_type": "markdown",
      "metadata": {
        "id": "7bHhz0LzBcdM"
      },
      "source": [
        "## Step 9: Initialize Trainer with Custom Callback for Visualization"
      ]
    },
    {
      "cell_type": "code",
      "execution_count": null,
      "metadata": {
        "colab": {
          "base_uri": "https://localhost:8080/",
          "height": 121,
          "referenced_widgets": [
            "6506a14197dc42ada1d1a3cf102cc6e8",
            "ad90d85d819c4cba8b22d5dab419efc6",
            "4aa8614fa7394a9da247c95e8f1049d4",
            "fce0ed33185e49c480765c372cf42b50",
            "f7d71b03e0914e94b8cbf8a3cf2bf6c2",
            "883169dfba3e4f15929a301a1f86c8a1",
            "4350c91f7caf4a0e92d34451ad54bb74",
            "89d71e9ef00f491db547e8977a93197c",
            "8786bb6d9b10473b9749c6fddd7b9f59",
            "aacece2b74c149de8603df9ed05e09fc",
            "81c3468e893a4ec4b808f9fa503f7903"
          ]
        },
        "id": "vkTLuDLkBcdM",
        "outputId": "576973e6-395a-4147-bbdc-61307552e992"
      },
      "outputs": [
        {
          "name": "stdout",
          "output_type": "stream",
          "text": [
            "Initializing trainer...\n"
          ]
        },
        {
          "data": {
            "application/vnd.jupyter.widget-view+json": {
              "model_id": "6506a14197dc42ada1d1a3cf102cc6e8",
              "version_major": 2,
              "version_minor": 0
            },
            "text/plain": [
              "Truncating train dataset:   0%|          | 0/500 [00:00<?, ? examples/s]"
            ]
          },
          "metadata": {},
          "output_type": "display_data"
        },
        {
          "name": "stderr",
          "output_type": "stream",
          "text": [
            "No label_names provided for model class `PeftModelForCausalLM`. Since `PeftModel` hides base models input arguments, if label_names is not given, label_names can't be set automatically within `Trainer`. Note that empty label_names list will be used instead.\n"
          ]
        },
        {
          "name": "stdout",
          "output_type": "stream",
          "text": [
            "Trainer initialized successfully!\n"
          ]
        }
      ],
      "source": [
        "from transformers import TrainerCallback\n",
        "\n",
        "class VisualizationCallback(TrainerCallback):\n",
        "    def on_log(self, args, state, control, logs=None, **kwargs):\n",
        "        if logs is not None and 'loss' in logs:\n",
        "            training_losses.append(logs['loss'])\n",
        "            training_steps.append(state.global_step)\n",
        "\n",
        "            # Clear output and show updated plot\n",
        "            clear_output(wait=True)\n",
        "\n",
        "            # Create figure with training info\n",
        "            fig, ax = plt.subplots(figsize=(10, 6))\n",
        "            ax.plot(training_steps, training_losses, 'b-', linewidth=2)\n",
        "            ax.set_xlabel('Training Steps', fontsize=12)\n",
        "            ax.set_ylabel('Loss', fontsize=12)\n",
        "            ax.set_title('Training Progress', fontsize=14)\n",
        "            ax.grid(True, alpha=0.3)\n",
        "\n",
        "            # Add training stats\n",
        "            current_time = datetime.now().strftime(\"%H:%M:%S\")\n",
        "            stats_text = f\"Step: {state.global_step}/{training_args.max_steps}\\n\"\n",
        "            stats_text += f\"Loss: {logs['loss']:.4f}\\n\"\n",
        "            stats_text += f\"Time: {current_time}\"\n",
        "\n",
        "            ax.text(0.02, 0.98, stats_text, transform=ax.transAxes,\n",
        "                    verticalalignment='top', bbox=dict(boxstyle='round', facecolor='wheat', alpha=0.5))\n",
        "\n",
        "            plt.tight_layout()\n",
        "            plt.show()\n",
        "\n",
        "            # Progress bar\n",
        "            progress = state.global_step / training_args.max_steps\n",
        "            bar_length = 50\n",
        "            filled_length = int(bar_length * progress)\n",
        "            bar = '█' * filled_length + '-' * (bar_length - filled_length)\n",
        "            print(f\"\\rProgress: |{bar}| {progress*100:.1f}% Complete\", end='\\r')\n",
        "\n",
        "\n",
        "# Initialize trainer\n",
        "print(\"Initializing trainer...\")\n",
        "trainer = SFTTrainer(\n",
        "    model=model,\n",
        "    train_dataset=dataset,\n",
        "    peft_config=peft_config,\n",
        "    args=training_args,\n",
        "    callbacks=[VisualizationCallback()],\n",
        ")\n",
        "\n",
        "print(\"Trainer initialized successfully!\")"
      ]
    },
    {
      "cell_type": "markdown",
      "metadata": {
        "id": "MtDqzDaMBcdN"
      },
      "source": [
        "## Step 10: Start Training with Live Visualization"
      ]
    },
    {
      "cell_type": "code",
      "execution_count": null,
      "metadata": {
        "colab": {
          "base_uri": "https://localhost:8080/",
          "height": 1000
        },
        "id": "ljcyeX94BcdN",
        "outputId": "4274955c-e943-44bb-8615-6ddad0c26fea"
      },
      "outputs": [
        {
          "data": {
            "image/png": "[encoded data removed]",
            "text/plain": [
              "<Figure size 1000x600 with 1 Axes>"
            ]
          },
          "metadata": {},
          "output_type": "display_data"
        },
        {
          "name": "stdout",
          "output_type": "stream",
          "text": [
            "\r",
            "Progress: |██████████████████████████████████████████████████| 100.0% Complete\r"
          ]
        },
        {
          "data": {
            "text/html": [
              "\n",
              "    <div>\n",
              "      \n",
              "      <progress value='50' max='50' style='width:300px; height:20px; vertical-align: middle;'></progress>\n",
              "      [50/50 01:12, Epoch 0/1]\n",
              "    </div>\n",
              "    <table border=\"1\" class=\"dataframe\">\n",
              "  <thead>\n",
              " <tr style=\"text-align: left;\">\n",
              "      <th>Step</th>\n",
              "      <th>Training Loss</th>\n",
              "    </tr>\n",
              "  </thead>\n",
              "  <tbody>\n",
              "    <tr>\n",
              "      <td>5</td>\n",
              "      <td>3.616700</td>\n",
              "    </tr>\n",
              "    <tr>\n",
              "      <td>10</td>\n",
              "      <td>1.475600</td>\n",
              "    </tr>\n",
              "    <tr>\n",
              "      <td>15</td>\n",
              "      <td>0.945900</td>\n",
              "    </tr>\n",
              "    <tr>\n",
              "      <td>20</td>\n",
              "      <td>0.796700</td>\n",
              "    </tr>\n",
              "    <tr>\n",
              "      <td>25</td>\n",
              "      <td>0.849100</td>\n",
              "    </tr>\n",
              "    <tr>\n",
              "      <td>30</td>\n",
              "      <td>0.691900</td>\n",
              "    </tr>\n",
              "    <tr>\n",
              "      <td>35</td>\n",
              "      <td>0.719100</td>\n",
              "    </tr>\n",
              "    <tr>\n",
              "      <td>40</td>\n",
              "      <td>0.829600</td>\n",
              "    </tr>\n",
              "    <tr>\n",
              "      <td>45</td>\n",
              "      <td>0.620500</td>\n",
              "    </tr>\n",
              "    <tr>\n",
              "      <td>50</td>\n",
              "      <td>0.685600</td>\n",
              "    </tr>\n",
              "  </tbody>\n",
              "</table><p>"
            ],
            "text/plain": [
              "<IPython.core.display.HTML object>"
            ]
          },
          "metadata": {},
          "output_type": "display_data"
        },
        {
          "name": "stdout",
          "output_type": "stream",
          "text": [
            "\n",
            "\n",
            " Training completed in 1.25 minutes!\n"
          ]
        }
      ],
      "source": [
        "print(\"Starting training...\")\n",
        "print(f\"Expected duration: ~10-12 minutes on T4 GPU\")\n",
        "print(\"=\"*50)\n",
        "\n",
        "training_start_time = time.time()\n",
        "\n",
        "# Train the model\n",
        "trainer.train()\n",
        "\n",
        "training_duration = time.time() - training_start_time\n",
        "print(f\"\\n\\n Training completed in {training_duration/60:.2f} minutes!\")"
      ]
    },
    {
      "cell_type": "markdown",
      "metadata": {
        "id": "TWtwgeOgBcdN"
      },
      "source": [
        "## Step 11: Show Final Training Summary"
      ]
    },
    {
      "cell_type": "code",
      "execution_count": null,
      "metadata": {
        "colab": {
          "base_uri": "https://localhost:8080/",
          "height": 686
        },
        "id": "_Lz9s0l7BcdN",
        "outputId": "634091ba-690f-4199-cdfa-969d57079917"
      },
      "outputs": [
        {
          "data": {
            "image/png": "[encoded data removed]",
            "text/plain": [
              "<Figure size 1200x600 with 2 Axes>"
            ]
          },
          "metadata": {},
          "output_type": "display_data"
        },
        {
          "name": "stdout",
          "output_type": "stream",
          "text": [
            "Training Summary:\n",
            "  - Total steps: 10\n",
            "  - Initial loss: 3.6167\n",
            "  - Final loss: 0.6856\n",
            "  - Loss reduction: 81.0%\n"
          ]
        }
      ],
      "source": [
        "# Display final training plot\n",
        "plt.figure(figsize=(12, 6))\n",
        "\n",
        "plt.subplot(1, 2, 1)\n",
        "plt.plot(training_steps, training_losses, 'b-', linewidth=2)\n",
        "plt.xlabel('Training Steps')\n",
        "plt.ylabel('Loss')\n",
        "plt.title('Training Loss Curve')\n",
        "plt.grid(True, alpha=0.3)\n",
        "\n",
        "plt.subplot(1, 2, 2)\n",
        "# Show loss reduction\n",
        "loss_reduction = (training_losses[0] - training_losses[-1]) / training_losses[0] * 100\n",
        "plt.bar(['Initial Loss', 'Final Loss'], [training_losses[0], training_losses[-1]],\n",
        "        color=['red', 'green'], alpha=0.7)\n",
        "plt.ylabel('Loss Value')\n",
        "plt.title(f'Loss Reduction: {loss_reduction:.1f}%')\n",
        "\n",
        "plt.tight_layout()\n",
        "plt.show()\n",
        "\n",
        "print(\"Training Summary:\")\n",
        "print(f\"  - Total steps: {len(training_steps)}\")\n",
        "print(f\"  - Initial loss: {training_losses[0]:.4f}\")\n",
        "print(f\"  - Final loss: {training_losses[-1]:.4f}\")\n",
        "print(f\"  - Loss reduction: {loss_reduction:.1f}%\")"
      ]
    },
    {
      "cell_type": "markdown",
      "metadata": {
        "id": "m3JJ9Iu1BcdN"
      },
      "source": [
        "## Step 12: Save the Fine-tuned Model"
      ]
    },
    {
      "cell_type": "code",
      "execution_count": null,
      "metadata": {
        "colab": {
          "base_uri": "https://localhost:8080/"
        },
        "id": "mEhZPsGyBcdN",
        "outputId": "51e48dfd-fef2-4a27-cf73-d5c44037dc02"
      },
      "outputs": [
        {
          "name": "stdout",
          "output_type": "stream",
          "text": [
            "Saving model...\n",
            "Model saved successfully!\n",
            "total 12884\n",
            "drwxr-xr-x 2 root root    4096 Jul  2 21:40 .\n",
            "drwxr-xr-x 1 root root    4096 Jul  2 21:40 ..\n",
            "-rw-r--r-- 1 root root     816 Jul  2 21:40 adapter_config.json\n",
            "-rw-r--r-- 1 root root 9034304 Jul  2 21:40 adapter_model.safetensors\n",
            "-rw-r--r-- 1 root root     410 Jul  2 21:40 chat_template.jinja\n",
            "-rw-r--r-- 1 root root    5108 Jul  2 21:40 README.md\n",
            "-rw-r--r-- 1 root root     437 Jul  2 21:40 special_tokens_map.json\n",
            "-rw-r--r-- 1 root root     951 Jul  2 21:40 tokenizer_config.json\n",
            "-rw-r--r-- 1 root root 3619280 Jul  2 21:40 tokenizer.json\n",
            "-rw-r--r-- 1 root root  499723 Jul  2 21:40 tokenizer.model\n"
          ]
        }
      ],
      "source": [
        "print(\"Saving model...\")\n",
        "trainer.model.save_pretrained(\"./llama-3-1b-finetuned-lora\")\n",
        "tokenizer.save_pretrained(\"./llama-3-1b-finetuned-lora\")\n",
        "print(\"Model saved successfully!\")\n",
        "\n",
        "# Check saved files\n",
        "!ls -la ./llama-3-1b-finetuned-lora/"
      ]
    },
    {
      "cell_type": "markdown",
      "metadata": {
        "id": "lIHvGZejBcdN"
      },
      "source": [
        "## Step 13: Test the Fine-tuned Model"
      ]
    },
    {
      "cell_type": "code",
      "execution_count": null,
      "metadata": {
        "colab": {
          "base_uri": "https://localhost:8080/"
        },
        "id": "aICV-GSYBcdN",
        "outputId": "089dae9e-273e-41ce-a99b-1fd4131a1f5d"
      },
      "outputs": [
        {
          "name": "stdout",
          "output_type": "stream",
          "text": [
            "\n",
            "=== Testing the fine-tuned model ===\n"
          ]
        }
      ],
      "source": [
        "print(\"\\n=== Testing the fine-tuned model ===\")\n",
        "\n",
        "# Clear memory\n",
        "del trainer\n",
        "gc.collect()\n",
        "torch.cuda.empty_cache()\n",
        "\n",
        "# Load model for inference\n",
        "model = AutoModelForCausalLM.from_pretrained(\n",
        "    model_name,\n",
        "    quantization_config=bnb_config,\n",
        "    device_map=\"auto\",\n",
        ")\n",
        "\n",
        "model = PeftModel.from_pretrained(model, \"./llama-3-1b-finetuned-lora\")"
      ]
    },
    {
      "cell_type": "code",
      "execution_count": null,
      "metadata": {
        "colab": {
          "base_uri": "https://localhost:8080/"
        },
        "id": "e9QFoTHcBcdN",
        "outputId": "470f28f1-c4fe-427d-dc0d-443381722491"
      },
      "outputs": [
        {
          "name": "stdout",
          "output_type": "stream",
          "text": [
            "\n",
            "==================================================\n",
            "Test 1:\n",
            "==================================================\n",
            "### Instruction:\n",
            "What are the benefits of exercise?\n",
            "\n",
            "### Input:\n",
            "\n",
            "\n",
            "### Response:\n",
            "Exercise is a highly beneficial activity that can have a positive impact on your overall health and wellbeing. Some of the benefits of exercise include:\n",
            "\n",
            "1. Reduces stress: Regular exercise can help reduce stress levels by releasing endorphins, which are natural mood boosters.\n",
            "\n",
            "2. Increases energy: Exercise boosts energy levels and helps you to feel more energetic, which can help you to overcome challenges\n",
            "\n",
            "==================================================\n",
            "Test 2:\n",
            "==================================================\n",
            "### Instruction:\n",
            "Explain machine learning in simple terms.\n",
            "\n",
            "### Input:\n",
            "\n",
            "\n",
            "### Response:\n",
            "Machine learning is a branch of artificial intelligence that aims to improve the accuracy of predictive algorithms by allowing computers to learn from data without being explicitly programmed. In essence, machine learning is the process of automatically learning from data without being explicitly programmed. It is a subset of artificial intelligence that involves the use of algorithms to analyze data in order to make predictions about future events.\n",
            "\n",
            "Machine learning can be applied to a variety of fields, including healthcare, finance, and market\n",
            "\n",
            "==================================================\n",
            "Test 3:\n",
            "==================================================\n",
            "### Instruction:\n",
            "Write a short poem about coding.\n",
            "\n",
            "### Input:\n",
            "\n",
            "\n",
            "### Response:\n",
            "Coding is like a dance.\n",
            "With each line you write,\n",
            "You bring out a new rhythm.\n",
            "\n",
            "The words and characters you use,\n",
            "Are the dancers in the dance.\n",
            "You set the beat,\n",
            "And they follow.\n",
            "\n",
            "Coding is a language\n",
            "That’s all about the code.\n",
            "You write the code,\n",
            "And it’s the code that makes it all happen.\n",
            "\n",
            "The code is the story,\n",
            "The dance\n"
          ]
        }
      ],
      "source": [
        "# Test with multiple prompts\n",
        "test_prompts = [\n",
        "    \"\"\"### Instruction:\n",
        "What are the benefits of exercise?\n",
        "\n",
        "### Input:\n",
        "\n",
        "\n",
        "### Response:\"\"\",\n",
        "\n",
        "    \"\"\"### Instruction:\n",
        "Explain machine learning in simple terms.\n",
        "\n",
        "### Input:\n",
        "\n",
        "\n",
        "### Response:\"\"\",\n",
        "\n",
        "    \"\"\"### Instruction:\n",
        "Write a short poem about coding.\n",
        "\n",
        "### Input:\n",
        "\n",
        "\n",
        "### Response:\"\"\"\n",
        "]\n",
        "\n",
        "for i, test_prompt in enumerate(test_prompts):\n",
        "    print(f\"\\n{'='*50}\")\n",
        "    print(f\"Test {i+1}:\")\n",
        "    print(f\"{'='*50}\")\n",
        "\n",
        "    inputs = tokenizer(test_prompt, return_tensors=\"pt\").to(\"cuda\")\n",
        "    with torch.no_grad():\n",
        "        outputs = model.generate(\n",
        "            **inputs,\n",
        "            max_new_tokens=100,\n",
        "            temperature=0.7,\n",
        "            do_sample=True,\n",
        "            top_p=0.95,\n",
        "            pad_token_id=tokenizer.eos_token_id,\n",
        "        )\n",
        "\n",
        "    response = tokenizer.decode(outputs[0], skip_special_tokens=True)\n",
        "    print(response)"
      ]
    },
    {
      "cell_type": "markdown",
      "metadata": {
        "id": "I1Gnr3GiBcdN"
      },
      "source": [
        "## Step 14: Download Fine-tuned Model (Optional)"
      ]
    },
    {
      "cell_type": "code",
      "execution_count": null,
      "metadata": {
        "colab": {
          "base_uri": "https://localhost:8080/",
          "height": 191
        },
        "id": "Htt95EjiBcdN",
        "outputId": "92db94eb-a79b-49c6-90a9-2f1e3ed8743a"
      },
      "outputs": [
        {
          "name": "stdout",
          "output_type": "stream",
          "text": [
            "  adding: llama-3-1b-finetuned-lora/ (stored 0%)\n",
            "  adding: llama-3-1b-finetuned-lora/adapter_config.json (deflated 55%)\n",
            "  adding: llama-3-1b-finetuned-lora/README.md (deflated 66%)\n",
            "  adding: llama-3-1b-finetuned-lora/special_tokens_map.json (deflated 73%)\n",
            "  adding: llama-3-1b-finetuned-lora/adapter_model.safetensors (deflated 8%)\n",
            "  adding: llama-3-1b-finetuned-lora/chat_template.jinja (deflated 60%)\n",
            "  adding: llama-3-1b-finetuned-lora/tokenizer.json (deflated 85%)\n",
            "  adding: llama-3-1b-finetuned-lora/tokenizer_config.json (deflated 69%)\n",
            "  adding: llama-3-1b-finetuned-lora/tokenizer.model (deflated 55%)\n",
            "Downloading fine-tuned model...\n"
          ]
        },
        {
          "data": {
            "application/javascript": [
              "\n",
              "    async function download(id, filename, size) {\n",
              "      if (!google.colab.kernel.accessAllowed) {\n",
              "        return;\n",
              "      }\n",
              "      const div = document.createElement('div');\n",
              "      const label = document.createElement('label');\n",
              "      label.textContent = `Downloading \"${filename}\": `;\n",
              "      div.appendChild(label);\n",
              "      const progress = document.createElement('progress');\n",
              "      progress.max = size;\n",
              "      div.appendChild(progress);\n",
              "      document.body.appendChild(div);\n",
              "\n",
              "      const buffers = [];\n",
              "      let downloaded = 0;\n",
              "\n",
              "      const channel = await google.colab.kernel.comms.open(id);\n",
              "      // Send a message to notify the kernel that we're ready.\n",
              "      channel.send({})\n",
              "\n",
              "      for await (const message of channel.messages) {\n",
              "        // Send a message to notify the kernel that we're ready.\n",
              "        channel.send({})\n",
              "        if (message.buffers) {\n",
              "          for (const buffer of message.buffers) {\n",
              "            buffers.push(buffer);\n",
              "            downloaded += buffer.byteLength;\n",
              "            progress.value = downloaded;\n",
              "          }\n",
              "        }\n",
              "      }\n",
              "      const blob = new Blob(buffers, {type: 'application/binary'});\n",
              "      const a = document.createElement('a');\n",
              "      a.href = window.URL.createObjectURL(blob);\n",
              "      a.download = filename;\n",
              "      div.appendChild(a);\n",
              "      a.click();\n",
              "      div.remove();\n",
              "    }\n",
              "  "
            ],
            "text/plain": [
              "<IPython.core.display.Javascript object>"
            ]
          },
          "metadata": {},
          "output_type": "display_data"
        },
        {
          "data": {
            "application/javascript": [
              "download(\"download_c53453bd-bd48-4a68-ac37-9879ad4ef512\", \"llama-3-1b-finetuned-lora.zip\", 9096769)"
            ],
            "text/plain": [
              "<IPython.core.display.Javascript object>"
            ]
          },
          "metadata": {},
          "output_type": "display_data"
        }
      ],
      "source": [
        "# Create a zip file of the fine-tuned model for download\n",
        "!zip -r llama-3-1b-finetuned-lora.zip ./llama-3-1b-finetuned-lora/\n",
        "\n",
        "# Download the model\n",
        "from google.colab import files\n",
        "print(\"Downloading fine-tuned model...\")\n",
        "files.download('llama-3-1b-finetuned-lora.zip')"
      ]
    },
    {
      "cell_type": "markdown",
      "metadata": {
        "id": "DY9QLzgJBcdO"
      },
      "source": [
        "##  Congratulations!\n",
        "\n",
        "You've successfully fine-tuned Llama 3.2 1B model on Google Colab!\n",
        "\n",
        "### What you've accomplished:\n",
        "-  Fine-tuned a 1B parameter model in under 15 minutes\n",
        "-  Used QLoRA for memory-efficient training\n",
        "-  Trained on 500 instruction-following examples\n",
        "-  Saved LoRA adapters (~10MB) that can be easily shared\n",
        "\n",
        "### Next steps:\n",
        "1. Try different datasets or increase training samples\n",
        "2. Experiment with different LoRA ranks (r parameter)\n",
        "3. Fine-tune for specific tasks (coding, creative writing, etc.)\n",
        "4. Deploy your model using the saved LoRA adapters"
      ]
    },
    {
      "cell_type": "code",
      "execution_count": null,
      "metadata": {
        "id": "XBkY5bBqDBrQ"
      },
      "outputs": [],
      "source": []
    }
  ],
  "metadata": {
    "accelerator": "GPU",
    "colab": {
      "gpuType": "T4",
      "machine_shape": "hm",
      "provenance": []
    },
    "kernelspec": {
      "display_name": "Python 3",
      "name": "python3"
    },
    "language_info": {
      "codemirror_mode": {
        "name": "ipython",
        "version": 3
      },
      "file_extension": ".py",
      "mimetype": "text/x-python",
      "name": "python",
      "nbconvert_exporter": "python",
      "pygments_lexer": "ipython3",
      "version": "3.10.12"
    }
  },
  "nbformat": 4,
  "nbformat_minor": 0
}